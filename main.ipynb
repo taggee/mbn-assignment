{
 "cells": [
  {
   "cell_type": "code",
   "execution_count": null,
   "id": "vocational-amsterdam",
   "metadata": {},
   "outputs": [],
   "source": [
    "import numpy as np\n",
    "import pandas as pd\n",
    "import csv\n",
    "import matplotlib.pyplot as plt\n",
    "from helpers import read_from_csv, plot_array\n",
    "from models import correlation_model"
   ]
  },
  {
   "cell_type": "code",
   "execution_count": null,
   "id": "appreciated-nation",
   "metadata": {},
   "outputs": [],
   "source": [
    "gene_df = read_from_csv('gene-data.csv')"
   ]
  },
  {
   "cell_type": "code",
   "execution_count": null,
   "id": "distinct-singer",
   "metadata": {},
   "outputs": [],
   "source": [
    "gene_df.head()"
   ]
  },
  {
   "cell_type": "code",
   "execution_count": null,
   "id": "removable-walker",
   "metadata": {},
   "outputs": [],
   "source": [
    "ground_truth = np.array([[0,1,0,0,0],\n",
    "                         [0,0,1,0,0],\n",
    "                         [0,0,0,0,1],\n",
    "                         [0,0,0,0,0],\n",
    "                         [1,1,0,1,0]])"
   ]
  },
  {
   "cell_type": "code",
   "execution_count": null,
   "id": "skilled-progressive",
   "metadata": {},
   "outputs": [],
   "source": [
    "corr_mat = pd.DataFrame(correlation_model(gene_df, 0.5))"
   ]
  },
  {
   "cell_type": "code",
   "execution_count": null,
   "id": "criminal-break",
   "metadata": {},
   "outputs": [],
   "source": [
    "plot_array(corr_mat)"
   ]
  },
  {
   "cell_type": "code",
   "execution_count": null,
   "metadata": {},
   "outputs": [],
   "source": []
  }
 ],
 "metadata": {
  "kernelspec": {
   "display_name": "Python 3",
   "language": "python",
   "name": "python3"
  },
  "language_info": {
   "codemirror_mode": {
    "name": "ipython",
    "version": 3
   },
   "file_extension": ".py",
   "mimetype": "text/x-python",
   "name": "python",
   "nbconvert_exporter": "python",
   "pygments_lexer": "ipython3",
   "version": "3.8.7-final"
  }
 },
 "nbformat": 4,
 "nbformat_minor": 5
}