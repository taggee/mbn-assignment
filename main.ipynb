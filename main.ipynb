{
 "cells": [
  {
   "cell_type": "code",
   "execution_count": 2,
   "metadata": {},
   "outputs": [],
   "source": [
    "import numpy as np\n",
    "import pandas as pd\n",
    "import csv\n",
    "import matplotlib.pyplot as plt\n",
    "import random\n",
    "from helpers import read_from_csv, discretize, plot_data, result_to_df, plot_result_directed, plot_result_undirected, calculate_rates_directed, calculate_rates_undirected\n",
    "from models import correlation_model, random_model"
   ]
  },
  {
   "cell_type": "code",
   "execution_count": 3,
   "metadata": {},
   "outputs": [],
   "source": [
    "# read raw data from CSV file:\n",
    "gene_df = read_from_csv('gene-data.csv')\n",
    "\n",
    "# discretize data into 5 bins of gene-specific limits:\n",
    "gene_df_disc = discretize(gene_df,5)\n",
    "\n",
    "# true network structure:\n",
    "# ground_truth[i,j]=1 -> directed edge between gene i and gene j\n",
    "ground_truth = result_to_df(np.array([[0,1,0,0,0],\n",
    "                                      [0,0,1,0,0],\n",
    "                                      [0,0,0,0,1],\n",
    "                                      [0,0,0,0,0],\n",
    "                                      [1,1,0,1,0]]))"
   ]
  },
  {
   "cell_type": "code",
   "execution_count": null,
   "metadata": {},
   "outputs": [],
   "source": [
    "gene_df.head()\n",
    "gene_df_disc.head()"
   ]
  },
  {
   "cell_type": "code",
   "execution_count": null,
   "metadata": {},
   "outputs": [],
   "source": [
    "plot_data(gene_df, discr=False)\n",
    "plot_data(gene_df_disc, discr=True)"
   ]
  },
  {
   "cell_type": "code",
   "execution_count": null,
   "metadata": {},
   "outputs": [],
   "source": [
    "corr_mat = correlation_model(gene_df, 0.75)"
   ]
  },
  {
   "cell_type": "code",
   "execution_count": null,
   "metadata": {},
   "outputs": [],
   "source": [
    "plot_result_directed(corr_mat)\n",
    "plot_result_directed(ground_truth)\n",
    "tpr,fpr = calculate_rates_directed(df_to_try=corr_mat, df_true=ground_truth)\n",
    "print('directed TPR = {:.3f} and FPR = {:.3f}'.format(tpr,fpr))"
   ]
  },
  {
   "cell_type": "code",
   "execution_count": null,
   "metadata": {},
   "outputs": [],
   "source": [
    "plot_result_undirected(corr_mat)\n",
    "plot_result_undirected(ground_truth)\n",
    "tpr,fpr = calculate_rates_undirected(df_to_try=corr_mat, df_true=ground_truth)\n",
    "print('undirected TPR = {:.3f} and FPR = {:.3f}'.format(tpr,fpr))"
   ]
  },
  {
   "cell_type": "code",
   "execution_count": 10,
   "metadata": {},
   "outputs": [],
   "source": [
    "random_mat = random_model(threshold=0.5)\n",
    "random_mat = random_model(n_edges=6)"
   ]
  },
  {
   "cell_type": "code",
   "execution_count": 11,
   "metadata": {},
   "outputs": [
    {
     "name": "stdout",
     "output_type": "stream",
     "text": [
      "directed TPR = 0.500 and FPR = 0.158\n"
     ]
    },
    {
     "data": {
      "image/png": "[encoded data removed]",
      "text/plain": [
       "<Figure size 360x360 with 1 Axes>"
      ]
     },
     "metadata": {
      "needs_background": "light"
     },
     "output_type": "display_data"
    },
    {
     "data": {
      "image/png": "[encoded data removed]",
      "text/plain": [
       "<Figure size 360x360 with 1 Axes>"
      ]
     },
     "metadata": {
      "needs_background": "light"
     },
     "output_type": "display_data"
    }
   ],
   "source": [
    "plot_result_directed(random_mat)\n",
    "plot_result_directed(ground_truth)\n",
    "tpr,fpr = calculate_rates_directed(df_to_try=random_mat, df_true=ground_truth)\n",
    "print('directed TPR = {:.3f} and FPR = {:.3f}'.format(tpr,fpr))"
   ]
  }
 ],
 "metadata": {
  "kernelspec": {
   "display_name": "Python 3",
   "language": "python",
   "name": "python3"
  },
  "language_info": {
   "codemirror_mode": {
    "name": "ipython",
    "version": 3
   },
   "file_extension": ".py",
   "mimetype": "text/x-python",
   "name": "python",
   "nbconvert_exporter": "python",
   "pygments_lexer": "ipython3",
   "version": "3.8.3"
  },
  "toc": {
   "base_numbering": 1,
   "nav_menu": {},
   "number_sections": true,
   "sideBar": true,
   "skip_h1_title": false,
   "title_cell": "Table of Contents",
   "title_sidebar": "Contents",
   "toc_cell": false,
   "toc_position": {},
   "toc_section_display": true,
   "toc_window_display": false
  },
  "varInspector": {
   "cols": {
    "lenName": 16,
    "lenType": 16,
    "lenVar": 40
   },
   "kernels_config": {
    "python": {
     "delete_cmd_postfix": "",
     "delete_cmd_prefix": "del ",
     "library": "var_list.py",
     "varRefreshCmd": "print(var_dic_list())"
    },
    "r": {
     "delete_cmd_postfix": ") ",
     "delete_cmd_prefix": "rm(",
     "library": "var_list.r",
     "varRefreshCmd": "cat(var_dic_list()) "
    }
   },
   "types_to_exclude": [
    "module",
    "function",
    "builtin_function_or_method",
    "instance",
    "_Feature"
   ],
   "window_display": false
  }
 },
 "nbformat": 4,
 "nbformat_minor": 5
}
