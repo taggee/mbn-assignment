{
 "cells": [
  {
   "cell_type": "code",
   "execution_count": 1,
   "metadata": {},
   "outputs": [],
   "source": [
    "import numpy as np\n",
    "import pandas as pd\n",
    "import csv\n",
    "import matplotlib.pyplot as plt\n",
    "import random\n",
    "from itertools import combinations\n",
    "from helpers import read_from_csv, discretize, plot_data, result_to_df, plot_result_directed, plot_result_undirected, calculate_rates_directed, calculate_rates_undirected\n",
    "from models import correlation_model, random_model, aracne_model"
   ]
  },
  {
   "cell_type": "code",
   "execution_count": 2,
   "metadata": {},
   "outputs": [],
   "source": [
    "# read raw data from CSV file:\n",
    "gene_df = read_from_csv('gene-data.csv')\n",
    "\n",
    "# discretize data into 5 bins of gene-specific limits:\n",
    "gene_df_disc = discretize(gene_df,5)\n",
    "\n",
    "# true network structure:\n",
    "# ground_truth[i,j]=1 -> directed edge between gene i and gene j\n",
    "ground_truth = result_to_df(np.array([[0,1,0,0,0],\n",
    "                                      [0,0,1,0,0],\n",
    "                                      [0,0,0,0,1],\n",
    "                                      [0,0,0,0,0],\n",
    "                                      [1,1,0,1,0]]))"
   ]
  },
  {
   "cell_type": "code",
   "execution_count": null,
   "metadata": {},
   "outputs": [],
   "source": [
    "gene_df.head()\n",
    "gene_df_disc.head()"
   ]
  },
  {
   "cell_type": "code",
   "execution_count": null,
   "metadata": {
    "scrolled": true
   },
   "outputs": [],
   "source": [
    "plot_data(gene_df, discr=False)\n",
    "plot_data(gene_df_disc, discr=True)"
   ]
  },
  {
   "cell_type": "code",
   "execution_count": null,
   "metadata": {},
   "outputs": [],
   "source": [
    "corr_mat = correlation_model(gene_df, threshold=0.75)"
   ]
  },
  {
   "cell_type": "code",
   "execution_count": null,
   "metadata": {},
   "outputs": [],
   "source": [
    "plot_result_directed(corr_mat)\n",
    "plot_result_directed(ground_truth)\n",
    "tpr,fpr = calculate_rates_directed(df_to_try=corr_mat, df_true=ground_truth)\n",
    "print('directed TPR = {:.3f} and FPR = {:.3f}'.format(tpr,fpr))"
   ]
  },
  {
   "cell_type": "code",
   "execution_count": null,
   "metadata": {},
   "outputs": [],
   "source": [
    "plot_result_undirected(corr_mat)\n",
    "plot_result_undirected(ground_truth)\n",
    "tpr,fpr = calculate_rates_undirected(df_to_try=corr_mat, df_true=ground_truth)\n",
    "print('undirected TPR = {:.3f} and FPR = {:.3f}'.format(tpr,fpr))"
   ]
  },
  {
   "cell_type": "code",
   "execution_count": null,
   "metadata": {},
   "outputs": [],
   "source": [
    "random_mat = random_model(threshold=0.5)\n",
    "# random_mat = random_model(n_edges=6)"
   ]
  },
  {
   "cell_type": "code",
   "execution_count": null,
   "metadata": {},
   "outputs": [],
   "source": [
    "plot_result_directed(random_mat)\n",
    "plot_result_directed(ground_truth)\n",
    "tpr,fpr = calculate_rates_directed(df_to_try=random_mat, df_true=ground_truth)\n",
    "print('directed TPR = {:.3f} and FPR = {:.3f}'.format(tpr,fpr))"
   ]
  },
  {
   "cell_type": "code",
   "execution_count": 20,
   "metadata": {},
   "outputs": [
    {
     "data": {
      "text/html": [
       "<div>\n",
       "<style scoped>\n",
       "    .dataframe tbody tr th:only-of-type {\n",
       "        vertical-align: middle;\n",
       "    }\n",
       "\n",
       "    .dataframe tbody tr th {\n",
       "        vertical-align: top;\n",
       "    }\n",
       "\n",
       "    .dataframe thead th {\n",
       "        text-align: right;\n",
       "    }\n",
       "</style>\n",
       "<table border=\"1\" class=\"dataframe\">\n",
       "  <thead>\n",
       "    <tr style=\"text-align: right;\">\n",
       "      <th></th>\n",
       "      <th>ASH1</th>\n",
       "      <th>CBF1</th>\n",
       "      <th>GAL4</th>\n",
       "      <th>GAL80</th>\n",
       "      <th>SWI5</th>\n",
       "    </tr>\n",
       "  </thead>\n",
       "  <tbody>\n",
       "    <tr>\n",
       "      <th>ASH1</th>\n",
       "      <td>0</td>\n",
       "      <td>1</td>\n",
       "      <td>1</td>\n",
       "      <td>1</td>\n",
       "      <td>1</td>\n",
       "    </tr>\n",
       "    <tr>\n",
       "      <th>CBF1</th>\n",
       "      <td>1</td>\n",
       "      <td>0</td>\n",
       "      <td>1</td>\n",
       "      <td>1</td>\n",
       "      <td>1</td>\n",
       "    </tr>\n",
       "    <tr>\n",
       "      <th>GAL4</th>\n",
       "      <td>1</td>\n",
       "      <td>1</td>\n",
       "      <td>0</td>\n",
       "      <td>1</td>\n",
       "      <td>1</td>\n",
       "    </tr>\n",
       "    <tr>\n",
       "      <th>GAL80</th>\n",
       "      <td>1</td>\n",
       "      <td>1</td>\n",
       "      <td>1</td>\n",
       "      <td>0</td>\n",
       "      <td>1</td>\n",
       "    </tr>\n",
       "    <tr>\n",
       "      <th>SWI5</th>\n",
       "      <td>1</td>\n",
       "      <td>1</td>\n",
       "      <td>1</td>\n",
       "      <td>1</td>\n",
       "      <td>0</td>\n",
       "    </tr>\n",
       "  </tbody>\n",
       "</table>\n",
       "</div>"
      ],
      "text/plain": [
       "       ASH1  CBF1  GAL4  GAL80  SWI5\n",
       "ASH1      0     1     1      1     1\n",
       "CBF1      1     0     1      1     1\n",
       "GAL4      1     1     0      1     1\n",
       "GAL80     1     1     1      0     1\n",
       "SWI5      1     1     1      1     0"
      ]
     },
     "execution_count": 20,
     "metadata": {},
     "output_type": "execute_result"
    }
   ],
   "source": [
    "aracne_mat = aracne_model(gene_df, discr_bins=5, threshold=0, remove=False)\n",
    "aracne_mat"
   ]
  },
  {
   "cell_type": "code",
   "execution_count": 52,
   "metadata": {},
   "outputs": [
    {
     "data": {
      "image/png": "[encoded data removed]",
      "text/plain": [
       "<Figure size 360x360 with 1 Axes>"
      ]
     },
     "metadata": {
      "needs_background": "light"
     },
     "output_type": "display_data"
    }
   ],
   "source": [
    "# ROC curve for correlation model\n",
    "thresholds = np.linspace(0, 1, 20)\n",
    "directed = True\n",
    "\n",
    "tpr = np.zeros(len(thresholds))\n",
    "fpr = np.zeros(len(thresholds))\n",
    "for i, thres in enumerate(thresholds):\n",
    "    mat = correlation_model(gene_df, threshold=thres)\n",
    "    if directed:\n",
    "        tpr[i],fpr[i] = calculate_rates_directed(df_to_try=mat, df_true=ground_truth)\n",
    "        title = 'ROC curve for directed edges'\n",
    "    else:\n",
    "        tpr[i],fpr[i] = calculate_rates_undirected(df_to_try=mat, df_true=ground_truth)\n",
    "        title = 'ROC curve for undirected edges'\n",
    "plt.figure(figsize=(5,5))\n",
    "plt.plot(fpr,tpr,\"o-\")\n",
    "plt.xlim((0,1))\n",
    "plt.ylim((0,1))\n",
    "plt.title(title)\n",
    "plt.xlabel('false positive rate')\n",
    "plt.ylabel('true positive rate')\n",
    "plt.legend(labels=['Correlation'], loc='lower right');"
   ]
  },
  {
   "cell_type": "code",
   "execution_count": 56,
   "metadata": {},
   "outputs": [
    {
     "data": {
      "image/png": "[encoded data removed]",
      "text/plain": [
       "<Figure size 360x360 with 1 Axes>"
      ]
     },
     "metadata": {
      "needs_background": "light"
     },
     "output_type": "display_data"
    }
   ],
   "source": [
    "# ROC curve for Aracne model\n",
    "thresholds = np.linspace(-10, 10, 20)\n",
    "directed = False\n",
    "bins_for_discretization = 5\n",
    "remove_edge_from_triplet = False\n",
    "\n",
    "tpr = np.zeros(len(thresholds))\n",
    "fpr = np.zeros(len(thresholds))\n",
    "for i, thres in enumerate(thresholds):\n",
    "    mat = aracne_model(gene_df, discr_bins=bins_for_discretization, \n",
    "                              threshold=thres, remove=remove_edge_from_triplet)\n",
    "    if directed:\n",
    "        tpr[i],fpr[i] = calculate_rates_directed(df_to_try=mat, df_true=ground_truth)\n",
    "        title = 'ROC curve for directed edges'\n",
    "    else:\n",
    "        tpr[i],fpr[i] = calculate_rates_undirected(df_to_try=mat, df_true=ground_truth)\n",
    "        title = 'ROC curve for undirected edges'\n",
    "plt.figure(figsize=(5,5))\n",
    "plt.plot(fpr,tpr,\"o-\")\n",
    "plt.xlim((0,1))\n",
    "plt.ylim((0,1))\n",
    "plt.title(title)\n",
    "plt.xlabel('false positive rate')\n",
    "plt.ylabel('true positive rate')\n",
    "plt.legend(labels=['Aracne'], loc='lower right');"
   ]
  },
  {
   "cell_type": "code",
   "execution_count": 61,
   "metadata": {},
   "outputs": [
    {
     "data": {
      "image/png": "[encoded data removed]",
      "text/plain": [
       "<Figure size 360x360 with 1 Axes>"
      ]
     },
     "metadata": {
      "needs_background": "light"
     },
     "output_type": "display_data"
    }
   ],
   "source": [
    "# ROC curve for random model\n",
    "thresholds = np.linspace(0, 1, 20)\n",
    "directed = True\n",
    "\n",
    "tpr = np.zeros(len(thresholds))\n",
    "fpr = np.zeros(len(thresholds))\n",
    "for i, thres in enumerate(thresholds):\n",
    "    mat = random_model(threshold=thres)\n",
    "    if directed:\n",
    "        tpr[i],fpr[i] = calculate_rates_directed(df_to_try=mat, df_true=ground_truth)\n",
    "        title = 'ROC curve for directed edges'\n",
    "    else:\n",
    "        tpr[i],fpr[i] = calculate_rates_undirected(df_to_try=mat, df_true=ground_truth)\n",
    "        title = 'ROC curve for undirected edges'\n",
    "plt.figure(figsize=(5,5))\n",
    "plt.plot(fpr,tpr,\"o-\")\n",
    "plt.xlim((0,1))\n",
    "plt.ylim((0,1))\n",
    "plt.title(title)\n",
    "plt.xlabel('false positive rate')\n",
    "plt.ylabel('true positive rate')\n",
    "plt.legend(labels=['Random'], loc='lower right');"
   ]
  }
 ],
 "metadata": {
  "kernelspec": {
   "display_name": "Python 3",
   "language": "python",
   "name": "python3"
  },
  "language_info": {
   "codemirror_mode": {
    "name": "ipython",
    "version": 3
   },
   "file_extension": ".py",
   "mimetype": "text/x-python",
   "name": "python",
   "nbconvert_exporter": "python",
   "pygments_lexer": "ipython3",
   "version": "3.8.3"
  },
  "toc": {
   "base_numbering": 1,
   "nav_menu": {},
   "number_sections": true,
   "sideBar": true,
   "skip_h1_title": false,
   "title_cell": "Table of Contents",
   "title_sidebar": "Contents",
   "toc_cell": false,
   "toc_position": {},
   "toc_section_display": true,
   "toc_window_display": false
  },
  "varInspector": {
   "cols": {
    "lenName": 16,
    "lenType": 16,
    "lenVar": 40
   },
   "kernels_config": {
    "python": {
     "delete_cmd_postfix": "",
     "delete_cmd_prefix": "del ",
     "library": "var_list.py",
     "varRefreshCmd": "print(var_dic_list())"
    },
    "r": {
     "delete_cmd_postfix": ") ",
     "delete_cmd_prefix": "rm(",
     "library": "var_list.r",
     "varRefreshCmd": "cat(var_dic_list()) "
    }
   },
   "types_to_exclude": [
    "module",
    "function",
    "builtin_function_or_method",
    "instance",
    "_Feature"
   ],
   "window_display": false
  }
 },
 "nbformat": 4,
 "nbformat_minor": 5
}
