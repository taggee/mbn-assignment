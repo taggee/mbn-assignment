{
 "cells": [
  {
   "cell_type": "code",
   "execution_count": null,
   "metadata": {},
   "outputs": [],
   "source": [
    "import numpy as np\n",
    "import pandas as pd\n",
    "import csv\n",
    "import matplotlib.pyplot as plt\n",
    "import random\n",
    "from itertools import combinations\n",
    "from models.helpers import read_from_csv, discretize, result_to_df, calculate_rates_directed, calculate_rates_undirected\n",
    "from plots.plots import plot_data, plot_result_directed, plot_result_undirected, plot_roc_curve\n",
    "from models.random_model import random_model, random_model_roc_values\n",
    "from models.correlation_model import correlation_model, correlation_model_roc_values\n",
    "from models.aracne_model import aracne_model, aracne_model_roc_values\n",
    "from models.greedy_hillclimbing import greedy_hillclimbing, hillclimbing_model_roc_values\n",
    "from sklearn.linear_model import LinearRegression\n",
    "%load_ext autoreload\n",
    "%autoreload 2"
   ]
  },
  {
   "cell_type": "code",
   "execution_count": null,
   "metadata": {},
   "outputs": [],
   "source": [
    "# read raw data from CSV file:\n",
    "gene_df = read_from_csv('gene-data.csv')\n",
    "\n",
    "# discretize data into 5 bins of gene-specific limits:\n",
    "gene_df_disc = discretize(gene_df,5)\n",
    "\n",
    "# true network structure:\n",
    "# ground_truth[i,j]=1 -> directed edge between gene i and gene j\n",
    "ground_truth = result_to_df(np.array([[0,1,0,0,0],\n",
    "                                      [0,0,1,0,0],\n",
    "                                      [0,0,0,0,1],\n",
    "                                      [0,0,0,0,0],\n",
    "                                      [1,1,0,1,0]]))"
   ]
  },
  {
   "cell_type": "code",
   "execution_count": null,
   "metadata": {},
   "outputs": [],
   "source": [
    "gene_df.head()\n",
    "#gene_df_disc.head()"
   ]
  },
  {
   "cell_type": "code",
   "execution_count": null,
   "metadata": {},
   "outputs": [],
   "source": [
    "plot_data(gene_df, discr=False)\n",
    "plot_data(gene_df_disc, discr=True)"
   ]
  },
  {
   "cell_type": "code",
   "execution_count": null,
   "metadata": {},
   "outputs": [],
   "source": [
    "corr_mat = correlation_model(gene_df, 0.75)"
   ]
  },
  {
   "cell_type": "code",
   "execution_count": null,
   "metadata": {},
   "outputs": [],
   "source": [
    "plot_result_directed(corr_mat)\n",
    "plot_result_directed(ground_truth)\n",
    "tpr,fpr = calculate_rates_directed(df_to_try=corr_mat, df_true=ground_truth)\n",
    "print('directed TPR = {:.3f} and FPR = {:.3f}'.format(tpr,fpr))"
   ]
  },
  {
   "cell_type": "code",
   "execution_count": null,
   "metadata": {},
   "outputs": [],
   "source": [
    "plot_result_undirected(corr_mat)\n",
    "plot_result_undirected(ground_truth)\n",
    "tpr,fpr = calculate_rates_undirected(df_to_try=corr_mat, df_true=ground_truth)\n",
    "print('undirected TPR = {:.3f} and FPR = {:.3f}'.format(tpr,fpr))"
   ]
  },
  {
   "cell_type": "code",
   "execution_count": null,
   "metadata": {},
   "outputs": [],
   "source": [
    "random_mat = random_model(threshold=0.5)\n",
    "# random_mat = random_model(n_edges=6)"
   ]
  },
  {
   "cell_type": "code",
   "execution_count": null,
   "metadata": {},
   "outputs": [],
   "source": [
    "plot_result_directed(random_mat)\n",
    "plot_result_directed(ground_truth)\n",
    "tpr,fpr = calculate_rates_directed(df_to_try=random_mat, df_true=ground_truth)\n",
    "print('directed TPR = {:.3f} and FPR = {:.3f}'.format(tpr,fpr))"
   ]
  },
  {
   "cell_type": "code",
   "execution_count": null,
   "metadata": {},
   "outputs": [],
   "source": [
    "plot_result_directed(random_mat)\n",
    "plot_result_directed(ground_truth)\n",
    "tpr,fpr = calculate_rates_directed(df_to_try=random_mat, df_true=ground_truth)\n",
    "print('directed TPR = {:.3f} and FPR = {:.3f}'.format(tpr,fpr))"
   ]
  },
  {
   "cell_type": "code",
   "execution_count": null,
   "metadata": {},
   "outputs": [],
   "source": [
    "aracne_mat = aracne_model(gene_df, discr_bins=5, threshold=0.5, remove=True)\n",
    "\n",
    "plot_result_undirected(aracne_mat)\n",
    "plot_result_undirected(ground_truth)\n",
    "tpr,fpr = calculate_rates_undirected(df_to_try=aracne_mat, df_true=ground_truth)\n",
    "print('directed TPR = {:.3f} and FPR = {:.3f}'.format(tpr,fpr))"
   ]
  },
  {
   "cell_type": "code",
   "execution_count": null,
   "metadata": {
    "scrolled": true
   },
   "outputs": [],
   "source": [
    "aracne_mat = aracne_model(gene_df, discr_bins=5, threshold=0.5, remove=False)\n"
   ]
  },
  {
   "cell_type": "code",
   "execution_count": null,
   "metadata": {},
   "outputs": [],
   "source": [
    "greedy_mat = greedy_hillclimbing(gene_df, iterations=6)\n",
    "plot_result_undirected(greedy_mat)\n",
    "plot_result_undirected(ground_truth)"
   ]
  },
  {
   "cell_type": "code",
   "execution_count": null,
   "metadata": {},
   "outputs": [],
   "source": [
    "roc_random = random_model_roc_values(df_truth=ground_truth, threshold_min=0, threshold_max=1, repetitions=100)\n",
    "roc_correlation = correlation_model_roc_values(df_data=gene_df, df_truth=ground_truth, threshold_min=0, threshold_max=1)\n",
    "roc_aracne1 = aracne_model_roc_values(df_data=gene_df, df_truth=ground_truth, threshold_min=0, threshold_max=1, \n",
    "                                      bins_for_discretization=7, remove_edge_from_triplet=False)\n",
    "roc_greedy = hillclimbing_model_roc_values(df_data=gene_df, df_truth=ground_truth, iterations_min= 1, iterations_max=10)"
   ]
  },
  {
   "cell_type": "code",
   "execution_count": null,
   "metadata": {},
   "outputs": [],
   "source": [
    "plot_roc_curve([roc_random,roc_correlation,roc_aracne1, roc_greedy], directed=True)"
   ]
  },
  {
   "cell_type": "code",
   "execution_count": null,
   "metadata": {},
   "outputs": [],
   "source": [
    "plot_roc_curve([roc_random,roc_correlation,roc_aracne1, roc_greedy], directed=False)"
   ]
  },
  {
   "cell_type": "code",
   "execution_count": null,
   "metadata": {},
   "outputs": [],
   "source": []
  }
 ],
 "metadata": {
  "kernelspec": {
   "display_name": "Python 3",
   "language": "python",
   "name": "python3"
  },
  "language_info": {
   "codemirror_mode": {
    "name": "ipython",
    "version": 3
   },
   "file_extension": ".py",
   "mimetype": "text/x-python",
   "name": "python",
   "nbconvert_exporter": "python",
   "pygments_lexer": "ipython3",
   "version": "3.8.7-final"
  },
  "toc": {
   "base_numbering": 1,
   "nav_menu": {},
   "number_sections": true,
   "sideBar": true,
   "skip_h1_title": false,
   "title_cell": "Table of Contents",
   "title_sidebar": "Contents",
   "toc_cell": false,
   "toc_position": {},
   "toc_section_display": true,
   "toc_window_display": false
  },
  "varInspector": {
   "cols": {
    "lenName": 16,
    "lenType": 16,
    "lenVar": 40
   },
   "kernels_config": {
    "python": {
     "delete_cmd_postfix": "",
     "delete_cmd_prefix": "del ",
     "library": "var_list.py",
     "varRefreshCmd": "print(var_dic_list())"
    },
    "r": {
     "delete_cmd_postfix": ") ",
     "delete_cmd_prefix": "rm(",
     "library": "var_list.r",
     "varRefreshCmd": "cat(var_dic_list()) "
    }
   },
   "types_to_exclude": [
    "module",
    "function",
    "builtin_function_or_method",
    "instance",
    "_Feature"
   ],
   "window_display": false
  }
 },
 "nbformat": 4,
 "nbformat_minor": 5
}